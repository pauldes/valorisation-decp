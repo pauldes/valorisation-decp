{
 "cells": [],
 "metadata": {
  "interpreter": {
   "hash": "def460cecf48dfea837a38eefbeb9a559343923474b94efebced9a405d076257"
  },
  "kernelspec": {
   "display_name": "Python 3.8.10 64-bit ('valorisation-decp-qCRh_KLP': pipenv)",
   "name": "python3"
  },
  "language_info": {
   "codemirror_mode": {
    "name": "ipython",
    "version": 3
   },
   "file_extension": ".py",
   "mimetype": "text/x-python",
   "name": "python",
   "nbconvert_exporter": "python",
   "pygments_lexer": "ipython3",
   "version": "3.8.10"
  },
  "orig_nbformat": 4
 },
 "nbformat": 4,
 "nbformat_minor": 2
}
